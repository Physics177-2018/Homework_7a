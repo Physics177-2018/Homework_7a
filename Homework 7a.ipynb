{
 "cells": [
  {
   "cell_type": "markdown",
   "metadata": {},
   "source": [
    "# Homework 7a: Drunkard's Walk\n",
    "Physics 177, Spring 2018  \n",
    "**Due:** Thursday, May 17\n",
    "\n",
    "*Enter your name here*"
   ]
  },
  {
   "cell_type": "markdown",
   "metadata": {},
   "source": [
    "## Discussion\n",
    "\n",
    "This problem is motivated by Chapter 7 of *Computational Physics, Second Edition* by N. Giordano and H. Nakanishi. \n",
    "\n",
    "The drunkard's walk is an example of a **stochastic** system---that's just a fancy way of saying that randomness plays a key role. A drunkard walks randomly in one dimension, as defined by the following rule:\n",
    "\n",
    "* At each time step, the drunkard randomly picks a direction (forward or backward) and takes one step in that direction.\n",
    "\n",
    "In this problem, will use Python's `random` library to code the drunkard's walk in an array. In the long homework we will relate this problem to diffusion in a physical system. \n",
    "\n",
    "**Note**: Random (drunk) walks are the simplest example of a **Markov chain**. In this problem, however, we will not be using it as a Markov chain---we're assigning some physical meaning to the initial condition and examining the walk as an actual time evolution. You should compare it to the *marble game* in class: when we used a marble to sample the large space of the field (and to count which samples were inside the circle). In the marble game, the order of the samples didn't matter---they were all just pieces of a statistical average. "
   ]
  },
  {
   "cell_type": "markdown",
   "metadata": {},
   "source": [
    "## Problem 1: Drunk walking in one dimension"
   ]
  },
  {
   "cell_type": "markdown",
   "metadata": {},
   "source": [
    "## 1a. Filling out the positions\n",
    "\n",
    "Fill in the code below for a *drunkard's walk* with a number of steps `nSteps = 100`. The output should be an array `xs` of length `nSteps` that contains the ordered list of positions that the drunkard has visited. For example, `xs[5]` is the $x$-position of the drunkard at the fifth step. Assume the drunkard starts at zero. Plot the result."
   ]
  },
  {
   "cell_type": "code",
   "execution_count": null,
   "metadata": {},
   "outputs": [],
   "source": [
    "%matplotlib inline\n",
    "import numpy as np\n",
    "import random\n",
    "import matplotlib.pyplot as plt\n",
    "\n",
    "nSteps = 100\n",
    "x = 0\n",
    "xs = []\n",
    "\n",
    "# each step: drunkard moves one unit in a random direction\n",
    "for i in range(nSteps):\n",
    "    # FILL THIS IN"
   ]
  },
  {
   "cell_type": "code",
   "execution_count": null,
   "metadata": {},
   "outputs": [],
   "source": [
    "plt.title(\"Random walk: position as a function of time\")\n",
    "plt.plot(np.arange(nSteps), xs, 'b-')\n",
    "plt.show()"
   ]
  },
  {
   "cell_type": "markdown",
   "metadata": {},
   "source": [
    "## 1b. The squared position\n",
    "\n",
    "The drunkard moves forward and backward. Very clearly the average position is $\\langle x \\rangle = 0$, even though the drunkard can sometimes go very far from zero. A good measure of how far the drunkard is from the origin is the square of the position. Plot $x^2$ as a function of step.\n",
    "\n",
    "**Cute trick**: you can write `for xi in xs:` as a for loop."
   ]
  },
  {
   "cell_type": "code",
   "execution_count": null,
   "metadata": {},
   "outputs": [],
   "source": [
    "x2s = []\n",
    "\n",
    "for xi in xs:\n",
    "    # FILL THIS IN\n",
    "    \n",
    "plt.title(\"Random walk: square of position as a function of time\")\n",
    "plt.plot(np.arange(nSteps), x2s, 'b-')\n",
    "plt.show()"
   ]
  },
  {
   "cell_type": "markdown",
   "metadata": {},
   "source": [
    "## 1c. Random Walk Is Random\n",
    "\n",
    "If you run Problem 1a and 1b a few times, you'll notice that you can get some very different looking plots. In this step, consider not one, but `nDrunk = 1000` drunkards. These are non-interacting drunkards (very unrealistic, I know) so that they move independently of one another. In other words, you can think of them an an ensemble of individual drunk walkers. \n",
    "\n",
    "As you can expect, $\\langle x \\rangle = 0$. However, things become more interesting if you examine $\\langle x^2(t) \\rangle$.  \n",
    "\n",
    "There are many ways to do this. You could use a 2D numpy array, you could loop through and keep a running tally of $x^2$ as you go through each step for each drunkard, etc. I leave it to you to code up an algorithm that you're happy with. The training wheels are off!"
   ]
  },
  {
   "cell_type": "code",
   "execution_count": null,
   "metadata": {},
   "outputs": [],
   "source": [
    "nDrunk = 1000\n",
    "nSteps = 100\n",
    "\n",
    "# FILL THIS IN\n",
    "\n",
    "plt.title(\"Random walk: square of position as a function of time\")\n",
    "plt.plot(np.arange(nSteps), x2s_avg, 'b-')\n",
    "plt.show()"
   ]
  },
  {
   "cell_type": "markdown",
   "metadata": {},
   "source": [
    "## 1d. The thinking part\n",
    "\n",
    "Mathematically the 1D random/drunkard's walk gives:\n",
    "\n",
    "$$\\langle x^2 \\rangle = 2Dt,$$\n",
    "\n",
    "where $D$ is the **diffusion** constant. Yes, it's the same diffusion constant in Homework 6b. Based on your plots, what is the value of $D$?\n",
    "\n",
    "For a nice derivation of the diffusion equation from the drunkard's walk (and an explanation for the factor of 2), see these slides: http://nebula.physics.uakron.edu/dept/faculty/jutta/modeling/diff_eqn.pdf\n",
    "\n",
    "You'll also note that the precise value of $D$ is really a proportionality constant between space and time. In otherwords, it amounts to a choice of units. "
   ]
  },
  {
   "cell_type": "markdown",
   "metadata": {},
   "source": [
    "## Extra Credit: Pairs of Drunks\n",
    "\n",
    "Consider the case of pairs of drunkards. Plot the average value of their separation, $\\langle(x_A -x_B)**2\\rangle$. Does this separation grow faster or slower than the separation from the origin for a single walker? In other words, after 100 steps, is a drunkard closer to the origin or closer to the other drunkard who srated at the same pub but wandered off independently?"
   ]
  },
  {
   "cell_type": "code",
   "execution_count": null,
   "metadata": {},
   "outputs": [],
   "source": []
  }
 ],
 "metadata": {
  "kernelspec": {
   "display_name": "Python 3",
   "language": "python",
   "name": "python3"
  },
  "language_info": {
   "codemirror_mode": {
    "name": "ipython",
    "version": 3
   },
   "file_extension": ".py",
   "mimetype": "text/x-python",
   "name": "python",
   "nbconvert_exporter": "python",
   "pygments_lexer": "ipython3",
   "version": "3.6.3"
  }
 },
 "nbformat": 4,
 "nbformat_minor": 2
}
